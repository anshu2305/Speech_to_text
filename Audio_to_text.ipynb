{
 "cells": [
  {
   "cell_type": "code",
   "execution_count": 1,
   "metadata": {},
   "outputs": [
    {
     "name": "stdout",
     "output_type": "stream",
     "text": [
      "file contains: star how I wonder what you are now so high like a diamond in the sky twinkle twinkle little star how I wonder what you are doing Twinkle Little Star How I Wonder What You Love So High Like A Diamond In The Sky Twinkle Twinkle Little Star How I Wonder What U www.fy ABC songs.com happy singing\n"
     ]
    }
   ],
   "source": [
    "import speech_recognition as sr\n",
    "audio=(\"./desktop/twinkle1.wav\")\n",
    "\n",
    "r=sr.Recognizer()\n",
    "\n",
    "with sr.AudioFile(audio) as source:\n",
    "    a=r.record(source)\n",
    "    \n",
    "try :  \n",
    "    print (\"file contains: \" + r.recognize_google(a))\n",
    "except sr.UnknownValueError :  \n",
    "    print (\"google speech recognition could not understand audio\")\n",
    "except sr.RequestError : \n",
    "    print (\"couldn't get the results from google speech recognition\")   "
   ]
  },
  {
   "cell_type": "code",
   "execution_count": null,
   "metadata": {},
   "outputs": [],
   "source": []
  }
 ],
 "metadata": {
  "kernelspec": {
   "display_name": "Python 3",
   "language": "python",
   "name": "python3"
  },
  "language_info": {
   "codemirror_mode": {
    "name": "ipython",
    "version": 3
   },
   "file_extension": ".py",
   "mimetype": "text/x-python",
   "name": "python",
   "nbconvert_exporter": "python",
   "pygments_lexer": "ipython3",
   "version": "3.7.4"
  }
 },
 "nbformat": 4,
 "nbformat_minor": 2
}
